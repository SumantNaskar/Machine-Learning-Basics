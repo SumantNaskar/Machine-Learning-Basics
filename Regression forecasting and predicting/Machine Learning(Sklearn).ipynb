{
 "cells": [
  {
   "cell_type": "code",
   "execution_count": 1,
   "metadata": {},
   "outputs": [],
   "source": [
    "import pandas as pd\n",
    "import quandl, math, datetime\n",
    "import numpy as np \n",
    "from sklearn import preprocessing, svm\n",
    "from sklearn.linear_model import LinearRegression \n",
    "from sklearn.model_selection import cross_validate\n",
    "from sklearn.model_selection import train_test_split\n",
    "import matplotlib.pyplot as plt\n",
    "from matplotlib import style\n",
    "import pickle\n",
    "style.use('ggplot')"
   ]
  },
  {
   "cell_type": "code",
   "execution_count": 2,
   "metadata": {},
   "outputs": [],
   "source": [
    "df = quandl.get('WIKI/GOOGL')\n",
    "df = df[['Adj. Open','Adj. High','Adj. Low','Adj. Close','Adj. Volume']]"
   ]
  },
  {
   "cell_type": "code",
   "execution_count": 3,
   "metadata": {},
   "outputs": [],
   "source": [
    "df['HL_PCT'] = (df['Adj. High'] - df['Adj. Close']) / df['Adj. Close'] * 100.0\n",
    "df['PCT_change'] = (df['Adj. Close'] - df['Adj. Open']) / df['Adj. Open'] * 100.0"
   ]
  },
  {
   "cell_type": "code",
   "execution_count": 4,
   "metadata": {},
   "outputs": [
    {
     "name": "stdout",
     "output_type": "stream",
     "text": [
      "<bound method NDFrame.head of              Adj. Close    HL_PCT  PCT_change  Adj. Volume\n",
      "Date                                                      \n",
      "2004-08-19    50.322842  3.712563    0.324968   44659000.0\n",
      "2004-08-20    54.322689  0.710922    7.227007   22834300.0\n",
      "2004-08-23    54.869377  3.729433   -1.227880   18256100.0\n",
      "2004-08-24    52.597363  6.417469   -5.726357   15247300.0\n",
      "2004-08-25    53.164113  1.886792    1.183658    9188600.0\n",
      "...                 ...       ...         ...          ...\n",
      "2018-03-21  1094.000000  1.343693    0.130884    1990515.0\n",
      "2018-03-22  1053.150000  2.921711   -2.487014    3418154.0\n",
      "2018-03-23  1026.550000  3.918952   -2.360729    2413517.0\n",
      "2018-03-26  1054.090000  0.491419    0.332191    3272409.0\n",
      "2018-03-27  1006.940000  5.720301   -5.353887    2940957.0\n",
      "\n",
      "[3424 rows x 4 columns]>\n"
     ]
    }
   ],
   "source": [
    "\n",
    "\n",
    "df = df[['Adj. Close','HL_PCT','PCT_change','Adj. Volume']]\n",
    "print(df.head)"
   ]
  },
  {
   "cell_type": "code",
   "execution_count": 5,
   "metadata": {},
   "outputs": [],
   "source": [
    "forecast_col = 'Adj. Close'\n",
    "df.fillna(-99999, inplace = True)"
   ]
  },
  {
   "cell_type": "code",
   "execution_count": 6,
   "metadata": {},
   "outputs": [
    {
     "name": "stdout",
     "output_type": "stream",
     "text": [
      "343\n"
     ]
    }
   ],
   "source": [
    "forecast_out = int(math.ceil(0.10 * len(df)))\n",
    "print(forecast_out)"
   ]
  },
  {
   "cell_type": "code",
   "execution_count": 7,
   "metadata": {},
   "outputs": [],
   "source": [
    "df['label'] = df[forecast_col].shift(-forecast_out)"
   ]
  },
  {
   "cell_type": "code",
   "execution_count": 8,
   "metadata": {},
   "outputs": [
    {
     "name": "stdout",
     "output_type": "stream",
     "text": [
      "3081 3081\n"
     ]
    }
   ],
   "source": [
    "X = np.array(df.drop(['label'],1))\n",
    "X = preprocessing.scale(X)\n",
    "X_lately = X[-forecast_out:]\n",
    "X = X[:-forecast_out]\n",
    "\n",
    "df.dropna(inplace = True)\n",
    "y = np.array(df['label'])\n",
    "\n",
    "print(len(X), len(y))"
   ]
  },
  {
   "cell_type": "code",
   "execution_count": 9,
   "metadata": {},
   "outputs": [],
   "source": [
    "X_train, X_test, y_train, y_test = train_test_split(X, y, test_size = 0.2)"
   ]
  },
  {
   "cell_type": "code",
   "execution_count": 10,
   "metadata": {},
   "outputs": [
    {
     "name": "stdout",
     "output_type": "stream",
     "text": [
      "0.745781391226486\n",
      "0.6996145339739737\n"
     ]
    }
   ],
   "source": [
    "# clf = LinearRegression(n_jobs = -1)\n",
    "# clf.fit(X_train, y_train)\n",
    "\n",
    "# with open('linearregression.pickle', 'wb') as f:\n",
    "#     pickle.dump(clf, f)\n",
    "\n",
    "pickle_in = open('linearregression.pickle', 'rb')\n",
    "clf = pickle.load(pickle_in)\n",
    "accuracy = clf.score(X_test, y_test)\n",
    "print(accuracy)\n",
    " \n",
    "clf_svm = svm.SVR()\n",
    "clf_svm.fit(X_train, y_train)\n",
    "accuracy_svm = clf_svm.score(X_test, y_test)\n",
    "print(accuracy_svm)"
   ]
  },
  {
   "cell_type": "code",
   "execution_count": 11,
   "metadata": {},
   "outputs": [],
   "source": [
    "forecast_set = clf.predict(X_lately)\n",
    "# print(forecast_set, accuracy, forecast_out)"
   ]
  },
  {
   "cell_type": "code",
   "execution_count": 13,
   "metadata": {},
   "outputs": [
    {
     "data": {
      "image/png": "[encoded data removed]",
      "text/plain": [
       "<Figure size 432x288 with 1 Axes>"
      ]
     },
     "metadata": {},
     "output_type": "display_data"
    }
   ],
   "source": [
    "df['Forecast'] = np.nan\n",
    "\n",
    "last_date = df.iloc[-1].name\n",
    "last_unix = last_date.timestamp()\n",
    "one_day = 86400\n",
    "next_unix = last_unix + one_day\n",
    "\n",
    "for i in forecast_set:\n",
    "    next_date = datetime.datetime.fromtimestamp(next_unix)\n",
    "    next_unix += one_day\n",
    "    df.loc[next_date] = [np.nan for _ in range(len(df.columns)- 1)] + [i]\n",
    "\n",
    "df['Adj. Close'].plot()\n",
    "df['Forecast'].plot()\n",
    "plt.legend()\n",
    "plt.xlabel('Date')\n",
    "plt.ylabel('Price')\n",
    "plt.show()\n"
   ]
  },
  {
   "cell_type": "code",
   "execution_count": null,
   "metadata": {},
   "outputs": [],
   "source": []
  }
 ],
 "metadata": {
  "kernelspec": {
   "display_name": "Python 3",
   "language": "python",
   "name": "python3"
  },
  "language_info": {
   "codemirror_mode": {
    "name": "ipython",
    "version": 3
   },
   "file_extension": ".py",
   "mimetype": "text/x-python",
   "name": "python",
   "nbconvert_exporter": "python",
   "pygments_lexer": "ipython3",
   "version": "3.8.3"
  }
 },
 "nbformat": 4,
 "nbformat_minor": 4
}
